{
 "cells": [
  {
   "cell_type": "code",
   "execution_count": 1,
   "metadata": {
    "id": "Kq4ptPdHX9Ta"
   },
   "outputs": [],
   "source": [
    "import pandas as pd\n",
    "import numpy as np\n",
    "import matplotlib.pyplot as plt\n",
    "import seaborn as sns\n",
    "import tensorflow as tf\n",
    "import dill\n",
    "\n",
    "from sklearn.model_selection import train_test_split\n",
    "\n",
    "import tensorflow_hub as hub\n",
    "import tensorflow_datasets as tfds\n",
    "from tensorflow.keras.layers import Activation, Dense, Embedding\n",
    "from tensorflow.keras.optimizers import Adam\n",
    "from tensorflow.keras.preprocessing.text import Tokenizer\n",
    "from tensorflow.keras.preprocessing.sequence import pad_sequences\n",
    "from tensorflow.keras import Model, Sequential\n",
    "from tensorflow.keras.layers.experimental.preprocessing import TextVectorization\n",
    "from keras.models import Sequential\n",
    "from keras import layers\n",
    "\n",
    "import re\n",
    "import nltk\n",
    "import string\n",
    "from nltk.stem import WordNetLemmatizer\n",
    "from nltk.corpus import stopwords\n"
   ]
  },
  {
   "cell_type": "code",
   "execution_count": 2,
   "metadata": {
    "colab": {
     "base_uri": "https://localhost:8080/",
     "height": 139
    },
    "id": "GddJ7mw6YNXI",
    "outputId": "08fd08ef-5642-4a47-8bb2-45624379df87"
   },
   "outputs": [
    {
     "name": "stderr",
     "output_type": "stream",
     "text": [
      "[nltk_data] Downloading package stopwords to\n",
      "[nltk_data]     C:\\Users\\ashra\\AppData\\Roaming\\nltk_data...\n",
      "[nltk_data]   Package stopwords is already up-to-date!\n",
      "[nltk_data] Downloading package wordnet to\n",
      "[nltk_data]     C:\\Users\\ashra\\AppData\\Roaming\\nltk_data...\n",
      "[nltk_data]   Package wordnet is already up-to-date!\n",
      "[nltk_data] Downloading package punkt to\n",
      "[nltk_data]     C:\\Users\\ashra\\AppData\\Roaming\\nltk_data...\n",
      "[nltk_data]   Package punkt is already up-to-date!\n"
     ]
    },
    {
     "data": {
      "text/plain": [
       "True"
      ]
     },
     "execution_count": 2,
     "metadata": {},
     "output_type": "execute_result"
    }
   ],
   "source": [
    "nltk.download(\"stopwords\")\n",
    "stop_words = set(stopwords.words('english'))\n",
    "wordnet_lemmatizer = WordNetLemmatizer()\n",
    "nltk.download('wordnet')\n",
    "nltk.download(\"punkt\")"
   ]
  },
  {
   "cell_type": "markdown",
   "metadata": {
    "id": "_RWIdemaZ21v"
   },
   "source": [
    "### Define Helper Functions"
   ]
  },
  {
   "cell_type": "code",
   "execution_count": 3,
   "metadata": {
    "id": "WzFXFKa0YW7P"
   },
   "outputs": [],
   "source": [
    "#Cleans Text\n",
    "def normalizer(tweet):\n",
    "    no_urls = re.sub(r\"http\\S+\", \" \" ,tweet)\n",
    "    only_letters = re.sub(\"[^a-zA-Z]\", \" \",no_urls)\n",
    "    tokens = nltk.word_tokenize(only_letters)[2 :]\n",
    "    lower_case = [l.lower() for l in tokens]\n",
    "    filtered_result = list(filter(lambda l: l not in stop_words, lower_case))\n",
    "    #lemmas = [wordnet_lemmatizer.lemmatize(t) for t in filtered_result]\n",
    "    return filtered_result\n",
    "\n",
    "#Generate Plots for Model\n",
    "def plot_graphs(history, metric):\n",
    "  plt.figure( figsize=(16,12))\n",
    "  plt.rcParams.update({'font.size': 22})\n",
    "  plt.plot(history.history[metric])\n",
    "  #plt.plot(history.history['val_'+metric], '')\n",
    "  plt.xlabel(\"Epochs\")\n",
    "  plt.ylabel(metric)\n",
    "  plt.legend([metric, 'val_'+metric])\n",
    "  plt.show()\n",
    "\n",
    "#make a prediction on input text\n",
    "def predict_on_text(text):\n",
    "  \n",
    "  test_text = np.array([text])\n",
    "  test_df =  pd.DataFrame(test_text, columns = ['text'])\n",
    "\n",
    "  test_df['normalized_tweet'] = test_df.text.apply(normalizer)\n",
    "  X = test_df[\"normalized_tweet\"].astype(str)\n",
    "\n",
    "  df = token.texts_to_sequences(X)\n",
    "\n",
    "  df = tf.keras.preprocessing.sequence.pad_sequences(df, maxlen=max_length)\n",
    "\n",
    "  prediction = np.round(model.predict(df)[0][0])\n",
    "\n",
    "  if prediction:\n",
    "\n",
    "    return \"This is about Sports.\"\n",
    "\n",
    "  else:\n",
    "\n",
    "    return \"This is not about Sports.\"\n",
    "\n",
    "# compute accuracy\n",
    "def accuracy(y, y_hat):\n",
    "\n",
    "  acc = np.mean(y == y_hat)\n",
    "\n",
    "  print('The accuracy is: ' + str(acc))\n",
    "\n",
    "#generates confusion matrix\n",
    "def confusionMatrix(ys,preds):\n",
    "    \n",
    "    N = len(ys)\n",
    "    #Generate empty matrix\n",
    "    confuse = np.zeros((2,2),dtype=int)\n",
    "    \n",
    "    #loop through both arrays\n",
    "    for i in range(N):\n",
    "    \n",
    "      #increase count in entry of each label\n",
    "      confuse[ys[i],int(preds[i])] = confuse[ys[i],int(preds[i])] + 1\n",
    "    \n",
    "    #return as dataframe\n",
    "    return pd.DataFrame(confuse)"
   ]
  },
  {
   "cell_type": "markdown",
   "metadata": {
    "id": "pJqlSXsqaIgP"
   },
   "source": [
    "## Data Reading and Cleaning"
   ]
  },
  {
   "cell_type": "code",
   "execution_count": 4,
   "metadata": {
    "colab": {
     "base_uri": "https://localhost:8080/",
     "height": 467
    },
    "id": "KXZbIOSvYuFq",
    "outputId": "ab67b723-b52b-41a6-be36-6ac1a8d5d487"
   },
   "outputs": [],
   "source": [
    "#uploaded = files.upload()\n",
    "\n",
    "df = pd.read_csv(\"./data.csv\")\n",
    "\n",
    "#map data labels to 0 or 1 \n",
    "df.label = df[\"label\"].replace({\"not_sports\":0,\"sports\":1})\n",
    "\n",
    "#add cleaned data to the DataFrame\n",
    "df['normalized_tweet'] = df.title.apply(normalizer)\n",
    "\n",
    "#seperate X and y out as DataFrames\n",
    "X = df[\"normalized_tweet\"].astype(str)\n",
    "y = df[\"label\"]"
   ]
  },
  {
   "cell_type": "code",
   "execution_count": 5,
   "metadata": {
    "id": "nwUVEtnx4Thi"
   },
   "outputs": [],
   "source": [
    "max_features = 50000 #we set maximum number of words to 5000\n",
    "max_length = 200 #we set maximum sequence length to 400\n",
    "embedding_dim = 100 \n",
    "\n",
    "token = tf.keras.preprocessing.text.Tokenizer(num_words=max_features) \n",
    "token.fit_on_texts(X)\n",
    "\n",
    "vocab_size = len(token.word_index) + 1 \n",
    "\n",
    "#conver X to a TensorFlow Type and add padding\n",
    "df = token.texts_to_sequences(X)\n",
    "df = tf.keras.preprocessing.sequence.pad_sequences(df, maxlen=max_length)\n"
   ]
  },
  {
   "cell_type": "markdown",
   "metadata": {
    "id": "kP4DudjoaQwp"
   },
   "source": [
    "## Split Data"
   ]
  },
  {
   "cell_type": "code",
   "execution_count": 6,
   "metadata": {
    "id": "2EeyW6mJ4pIa"
   },
   "outputs": [],
   "source": [
    "X_train, X_test, y_train, y_test = train_test_split(df, y,test_size=0.15,random_state=101)\n",
    "\n",
    "X_train, X_val, y_train, y_val = train_test_split(X_train, y_train, test_size=0.10, random_state=1)"
   ]
  },
  {
   "cell_type": "markdown",
   "metadata": {
    "id": "v7Dak5EQalV1"
   },
   "source": [
    "## Model Building"
   ]
  },
  {
   "cell_type": "code",
   "execution_count": 7,
   "metadata": {
    "id": "nx9tjvtSZRPd"
   },
   "outputs": [
    {
     "name": "stdout",
     "output_type": "stream",
     "text": [
      "Model: \"sequential\"\n",
      "_________________________________________________________________\n",
      "Layer (type)                 Output Shape              Param #   \n",
      "=================================================================\n",
      "embedding (Embedding)        (None, 200, 100)          1325600   \n",
      "_________________________________________________________________\n",
      "global_max_pooling1d (Global (None, 100)               0         \n",
      "_________________________________________________________________\n",
      "dense (Dense)                (None, 10)                1010      \n",
      "_________________________________________________________________\n",
      "dense_1 (Dense)              (None, 1)                 11        \n",
      "=================================================================\n",
      "Total params: 1,326,621\n",
      "Trainable params: 1,326,621\n",
      "Non-trainable params: 0\n",
      "_________________________________________________________________\n"
     ]
    }
   ],
   "source": [
    "model = Sequential()\n",
    "model.add(layers.Embedding(input_dim=vocab_size,\n",
    "                           output_dim=embedding_dim,\n",
    "                           input_length=max_length))\n",
    "# model.add(layers.Flatten())\n",
    "model.add(layers.GlobalMaxPool1D())\n",
    "model.add(layers.Dense(10,activation='relu'))\n",
    "model.add(layers.Dense(1,activation='sigmoid',kernel_initializer='uniform'))\n",
    "\n",
    "model.compile(optimizer=\"adam\",\n",
    "              loss='binary_crossentropy',metrics=[\"accuracy\"])\n",
    "\n",
    "model.summary()"
   ]
  },
  {
   "cell_type": "markdown",
   "metadata": {
    "id": "skNOKW8patHE"
   },
   "source": [
    "## Save, Load and Train Model"
   ]
  },
  {
   "cell_type": "code",
   "execution_count": 8,
   "metadata": {
    "id": "zIz5Jf4bZWfj"
   },
   "outputs": [
    {
     "name": "stdout",
     "output_type": "stream",
     "text": [
      "Epoch 1/10\n",
      "178/178 [==============================] - 4s 22ms/step - loss: 0.6134 - accuracy: 0.7678\n",
      "Epoch 2/10\n",
      "178/178 [==============================] - 4s 22ms/step - loss: 0.2513 - accuracy: 0.9207\n",
      "Epoch 3/10\n",
      "178/178 [==============================] - 4s 22ms/step - loss: 0.1184 - accuracy: 0.9579 0s\n",
      "Epoch 4/10\n",
      "178/178 [==============================] - 4s 22ms/step - loss: 0.0763 - accuracy: 0.9710\n",
      "Epoch 5/10\n",
      "178/178 [==============================] - 4s 21ms/step - loss: 0.0615 - accuracy: 0.9735\n",
      "Epoch 6/10\n",
      "178/178 [==============================] - 4s 21ms/step - loss: 0.0547 - accuracy: 0.9752\n",
      "Epoch 7/10\n",
      "178/178 [==============================] - 4s 22ms/step - loss: 0.0528 - accuracy: 0.9761\n",
      "Epoch 8/10\n",
      "178/178 [==============================] - 4s 23ms/step - loss: 0.0520 - accuracy: 0.9752\n",
      "Epoch 9/10\n",
      "178/178 [==============================] - 4s 23ms/step - loss: 0.0492 - accuracy: 0.9763\n",
      "Epoch 10/10\n",
      "178/178 [==============================] - 4s 22ms/step - loss: 0.0505 - accuracy: 0.9740\n"
     ]
    }
   ],
   "source": [
    "history = model.fit(np.array(X_train), np.array(y_train), batch_size=52,epochs=10) "
   ]
  },
  {
   "cell_type": "code",
   "execution_count": 9,
   "metadata": {
    "id": "7nSfU-911cbr"
   },
   "outputs": [
    {
     "name": "stdout",
     "output_type": "stream",
     "text": [
      "57/57 [==============================] - 0s 3ms/step - loss: 0.2746 - accuracy: 0.8969\n"
     ]
    },
    {
     "data": {
      "text/plain": [
       "[0.2745616137981415, 0.8969128727912903]"
      ]
     },
     "execution_count": 9,
     "metadata": {},
     "output_type": "execute_result"
    }
   ],
   "source": [
    "model.evaluate(X_test,y_test)"
   ]
  },
  {
   "cell_type": "code",
   "execution_count": 10,
   "metadata": {
    "id": "_1-QXVFAZfjI"
   },
   "outputs": [
    {
     "data": {
      "image/png": "[encoded data removed]",
      "text/plain": [
       "<Figure size 1152x864 with 1 Axes>"
      ]
     },
     "metadata": {
      "needs_background": "light"
     },
     "output_type": "display_data"
    },
    {
     "data": {
      "image/png": "[encoded data removed]",
      "text/plain": [
       "<Figure size 1152x864 with 1 Axes>"
      ]
     },
     "metadata": {
      "needs_background": "light"
     },
     "output_type": "display_data"
    }
   ],
   "source": [
    "#plot graphs for training\n",
    "plot_graphs(history, 'accuracy')\n",
    "plot_graphs(history, 'loss')"
   ]
  },
  {
   "cell_type": "markdown",
   "metadata": {
    "id": "g4RWCLn5bHDA"
   },
   "source": [
    "## Model Testing and Metrics"
   ]
  },
  {
   "cell_type": "code",
   "execution_count": 11,
   "metadata": {
    "id": "yE8uPAKxZjD_"
   },
   "outputs": [
    {
     "name": "stdout",
     "output_type": "stream",
     "text": [
      "The accuracy is: 0.8969128996692393\n"
     ]
    }
   ],
   "source": [
    "#predict on test data\n",
    "predictions = model.predict(X_test)\n",
    "predictions = predictions.reshape((1814,))\n",
    "predictions = np.round(predictions)\n",
    "\n",
    "#accuracy on test data\n",
    "accuracy(y_test , predictions)"
   ]
  },
  {
   "cell_type": "code",
   "execution_count": 12,
   "metadata": {
    "id": "uVusJFmJZmbA"
   },
   "outputs": [
    {
     "data": {
      "image/png": "[encoded data removed]",
      "text/plain": [
       "<Figure size 1152x864 with 2 Axes>"
      ]
     },
     "metadata": {
      "needs_background": "light"
     },
     "output_type": "display_data"
    }
   ],
   "source": [
    "#Make Confusion Matrix\n",
    "ys = y_test.to_numpy()\n",
    "con = confusionMatrix(ys,predictions)\n",
    "fig1 = plt.figure(figsize=(16,12))\n",
    "plt.rcParams.update({'font.size': 22})\n",
    "ax = sns.heatmap(con, annot=True, cmap ='Blues_r' ,fmt='d')\n",
    "plt.title(\"Sports - Not-Sports Confusion Matrix\")\n",
    "plt.xlim(0, 2)\n",
    "plt.ylim(0, 2)\n",
    "plt.show()"
   ]
  },
  {
   "cell_type": "code",
   "execution_count": 13,
   "metadata": {
    "id": "NwxQIElVZt34"
   },
   "outputs": [
    {
     "name": "stdout",
     "output_type": "stream",
     "text": [
      "The sensitivity is: 0.8665931642778391\n",
      "The specificity is: 0.9272326350606395\n"
     ]
    }
   ],
   "source": [
    "#Calculate Specificity and Sensitivity \n",
    "con_mat = con.to_numpy()\n",
    "tn = con_mat[0,0]\n",
    "fn = con_mat[1,0]\n",
    "fp = con_mat[0,1]\n",
    "tp = con_mat[1,1]\n",
    "\n",
    "sensitivity =  tp/(tp+fn)\n",
    "specificity = tn /(tn+fp)\n",
    "\n",
    "print('The sensitivity is: ' + str(sensitivity))\n",
    "print('The specificity is: ' + str(specificity))"
   ]
  },
  {
   "cell_type": "markdown",
   "metadata": {
    "id": "BWQ3-8wdZ-4u"
   },
   "source": [
    "# Predict Model"
   ]
  },
  {
   "cell_type": "code",
   "execution_count": 14,
   "metadata": {
    "id": "zeeQwyoWZxng"
   },
   "outputs": [
    {
     "name": "stdout",
     "output_type": "stream",
     "text": [
      "This is about Sports.\n"
     ]
    }
   ],
   "source": [
    "test_text  = \" is my favourite \" \n",
    "\n",
    "print(predict_on_text(test_text))"
   ]
  },
  {
   "cell_type": "code",
   "execution_count": 19,
   "metadata": {
    "id": "UGCsBQ7424GW"
   },
   "outputs": [
    {
     "name": "stdout",
     "output_type": "stream",
     "text": [
      "INFO:tensorflow:Assets written to: C:/Users/ashra/Documents/Enhance IT/NLP_group/assets\n"
     ]
    }
   ],
   "source": [
    "model.save(\"C:/Users/ashra/Documents/Enhance IT/NLP_group/\")\n",
    "\n",
    "with open(\"token.pickle\", 'wb') as f:\n",
    "\n",
    "    dill.dump(token,f)"
   ]
  },
  {
   "cell_type": "code",
   "execution_count": null,
   "metadata": {
    "id": "vuO-zCcC3ZUn"
   },
   "outputs": [],
   "source": []
  },
  {
   "cell_type": "code",
   "execution_count": null,
   "metadata": {},
   "outputs": [],
   "source": []
  }
 ],
 "metadata": {
  "colab": {
   "name": "Team_new_project.ipynb",
   "provenance": []
  },
  "kernelspec": {
   "display_name": "Python 3",
   "language": "python",
   "name": "python3"
  },
  "language_info": {
   "codemirror_mode": {
    "name": "ipython",
    "version": 3
   },
   "file_extension": ".py",
   "mimetype": "text/x-python",
   "name": "python",
   "nbconvert_exporter": "python",
   "pygments_lexer": "ipython3",
   "version": "3.8.0"
  }
 },
 "nbformat": 4,
 "nbformat_minor": 1
}
